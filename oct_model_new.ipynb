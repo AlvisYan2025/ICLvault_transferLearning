{
 "cells": [
  {
   "cell_type": "code",
   "execution_count": 1,
   "metadata": {},
   "outputs": [
    {
     "name": "stderr",
     "output_type": "stream",
     "text": [
      "/Users/elvisyan/Library/Python/3.9/lib/python/site-packages/urllib3/__init__.py:34: NotOpenSSLWarning: urllib3 v2.0 only supports OpenSSL 1.1.1+, currently the 'ssl' module is compiled with 'LibreSSL 2.8.3'. See: https://github.com/urllib3/urllib3/issues/3020\n",
      "  warnings.warn(\n"
     ]
    }
   ],
   "source": [
    "import tensorflow as tf\n",
    "import pandas as pd\n",
    "import numpy as np\n",
    "from sklearn.model_selection import train_test_split\n",
    "import torch\n",
    "from torch.utils.data import Dataset, DataLoader\n",
    "from PIL import Image\n",
    "import torchvision.transforms as transforms\n",
    "from torchvision import models\n",
    "import torch.nn as nn\n",
    "import torch.optim as optim\n",
    "import matplotlib.pyplot as plt\n",
    "import statistics\n",
    "import os\n",
    "import random\n",
    "from mymodels import ResnetOCTModel, ImageDataset, filter_by_lens, get_paths_and_labels, split_subjects, construct_dataset"
   ]
  },
  {
   "cell_type": "code",
   "execution_count": 7,
   "metadata": {},
   "outputs": [
    {
     "name": "stdout",
     "output_type": "stream",
     "text": [
      "selected subjects: 36 163 41\n",
      "datasets constructed. test length: 225, train length 414, val length 126\n"
     ]
    }
   ],
   "source": [
    "lens = 12.6 \n",
    "data = pd.read_excel('OCT_Collated.xlsx')\n",
    "data = data.loc[:, ['Subject (Eye)','ICL Size', 'Post-Op Vault']]\n",
    "data = data[-data['Post-Op Vault'].isna()]\n",
    "if lens: \n",
    "        data = filter_by_lens(data, lens)\n",
    "subject_test, subject_train, subject_val = split_subjects(data)\n",
    "dataloader_test, dataloader_train, dataloader_val = construct_dataset(data, subject_test, subject_train, subject_val)"
   ]
  },
  {
   "cell_type": "code",
   "execution_count": 8,
   "metadata": {},
   "outputs": [
    {
     "name": "stdout",
     "output_type": "stream",
     "text": [
      "current setting: 16 0.001 0.2 False\n"
     ]
    },
    {
     "name": "stderr",
     "output_type": "stream",
     "text": [
      "/Users/elvisyan/Library/Python/3.9/lib/python/site-packages/torchvision/models/_utils.py:208: UserWarning: The parameter 'pretrained' is deprecated since 0.13 and may be removed in the future, please use 'weights' instead.\n",
      "  warnings.warn(\n",
      "/Users/elvisyan/Library/Python/3.9/lib/python/site-packages/torchvision/models/_utils.py:223: UserWarning: Arguments other than a weight enum or `None` for 'weights' are deprecated since 0.13 and may be removed in the future. The current behavior is equivalent to passing `weights=ResNet50_Weights.IMAGENET1K_V1`. You can also use `weights=ResNet50_Weights.DEFAULT` to get the most up-to-date weights.\n",
      "  warnings.warn(msg)\n"
     ]
    },
    {
     "name": "stdout",
     "output_type": "stream",
     "text": [
      "training start\n",
      "----------------------\n",
      "Epoch 1/16, Traning Loss: 187.19586929908166, Validation loss: 201.93671321868896\n",
      "Epoch 2/16, Traning Loss: 149.97593461550198, Validation loss: 139.076078414917\n",
      "Epoch 3/16, Traning Loss: 152.58770121060886, Validation loss: 128.1584758758545\n",
      "Epoch 4/16, Traning Loss: 153.41615383441632, Validation loss: 152.72262740135193\n",
      "Epoch 5/16, Traning Loss: 151.95941462883582, Validation loss: 125.66236066818237\n",
      "Epoch 6/16, Traning Loss: 153.99134870675894, Validation loss: 131.17600440979004\n",
      "Epoch 7/16, Traning Loss: 152.40885411776028, Validation loss: 131.50299739837646\n"
     ]
    }
   ],
   "source": [
    "for epoch in [16, 32, 64, 128, 256]:\n",
    "    for lr in [0.001, 0.005, 0.01]:\n",
    "        for dropout in [0.2, 0.3, 0.4, 0.5]:\n",
    "            for freeze in [False, True]:\n",
    "                print('current setting:', epoch, lr, dropout, freeze)\n",
    "                curr_model = ResnetOCTModel([], dropout, freeze)\n",
    "                curr_model.train_model(epoch, dataloader_train, dataloader_val, learning_rate=lr, early_stop=False, graph=True)\n",
    "                curr_model.evaluate(dataloader_test)\n",
    "                torch.save(curr_model, f\"new_trained_models/model{epoch}_{lr}_{dropout}_{freeze}\")"
   ]
  }
 ],
 "metadata": {
  "kernelspec": {
   "display_name": "Python 3",
   "language": "python",
   "name": "python3"
  },
  "language_info": {
   "codemirror_mode": {
    "name": "ipython",
    "version": 3
   },
   "file_extension": ".py",
   "mimetype": "text/x-python",
   "name": "python",
   "nbconvert_exporter": "python",
   "pygments_lexer": "ipython3",
   "version": "3.9.6"
  },
  "orig_nbformat": 4
 },
 "nbformat": 4,
 "nbformat_minor": 2
}
